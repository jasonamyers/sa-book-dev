{
 "cells": [
  {
   "cell_type": "code",
   "execution_count": 1,
   "metadata": {
    "collapsed": false
   },
   "outputs": [],
   "source": [
    "from datetime import datetime\n",
    "\n",
    "from sqlalchemy import (MetaData, Table, Column, Integer, Numeric, String,\n",
    "                        DateTime, ForeignKey, Boolean, create_engine, CheckConstraint,\n",
    "                        ForeignKeyConstraint)\n",
    "metadata = MetaData()\n",
    "engine = create_engine('sqlite:///Chinook_Sqlite.sqlite')\n",
    "metadata.create_all(engine)\n",
    "connection = engine.connect()"
   ]
  },
  {
   "cell_type": "code",
   "execution_count": 2,
   "metadata": {
    "collapsed": false
   },
   "outputs": [],
   "source": [
    "artist = Table('artist', metadata, autoload=True, autoload_with=engine)"
   ]
  },
  {
   "cell_type": "code",
   "execution_count": 3,
   "metadata": {
    "collapsed": false
   },
   "outputs": [],
   "source": [
    "album = Table('album', metadata, autoload=True, autoload_with=engine)"
   ]
  },
  {
   "cell_type": "code",
   "execution_count": 4,
   "metadata": {
    "collapsed": false
   },
   "outputs": [],
   "source": [
    "track = Table('track', metadata, autoload=True, autoload_with=engine)"
   ]
  },
  {
   "cell_type": "code",
   "execution_count": 5,
   "metadata": {
    "collapsed": false
   },
   "outputs": [
    {
     "data": {
      "text/plain": [
       "['ArtistId', 'Name']"
      ]
     },
     "execution_count": 5,
     "metadata": {},
     "output_type": "execute_result"
    }
   ],
   "source": [
    "artist.columns.keys()"
   ]
  },
  {
   "cell_type": "code",
   "execution_count": 23,
   "metadata": {
    "collapsed": false
   },
   "outputs": [
    {
     "data": {
      "text/plain": [
       "{ForeignKeyConstraint(<sqlalchemy.sql.base.ColumnCollection object at 0x10a0afb00>, None)}"
      ]
     },
     "execution_count": 23,
     "metadata": {},
     "output_type": "execute_result"
    }
   ],
   "source": [
    "album.foreign_keys"
   ]
  },
  {
   "cell_type": "code",
   "execution_count": 40,
   "metadata": {
    "collapsed": false
   },
   "outputs": [],
   "source": [
    "album.append_constraint(\n",
    "    ForeignKeyConstraint(['ArtistId'], ['artist.ArtistId'])\n",
    ")"
   ]
  },
  {
   "cell_type": "code",
   "execution_count": 41,
   "metadata": {
    "collapsed": false
   },
   "outputs": [
    {
     "data": {
      "text/plain": [
       "Table('album', MetaData(bind=None), Column('AlbumId', INTEGER(), table=<album>, primary_key=True, nullable=False), Column('Title', NVARCHAR(length=160), table=<album>, nullable=False), Column('ArtistId', INTEGER(), ForeignKey('artist.ArtistId'), table=<album>, nullable=False), schema=None)"
      ]
     },
     "execution_count": 41,
     "metadata": {},
     "output_type": "execute_result"
    }
   ],
   "source": [
    "metadata.tables['album']"
   ]
  },
  {
   "cell_type": "code",
   "execution_count": 15,
   "metadata": {
    "collapsed": false
   },
   "outputs": [],
   "source": [
    "metadata.reflect(bind=engine)"
   ]
  },
  {
   "cell_type": "code",
   "execution_count": 16,
   "metadata": {
    "collapsed": false
   },
   "outputs": [
    {
     "data": {
      "text/plain": [
       "immutabledict({'album': Table('album', MetaData(bind=None), Column('AlbumId', INTEGER(), table=<album>, primary_key=True, nullable=False), Column('Title', NVARCHAR(length=160), table=<album>, nullable=False), Column('ArtistId', INTEGER(), table=<album>, nullable=False), schema=None), u'Album': Table('Album', MetaData(bind=None), Column('AlbumId', INTEGER(), table=<Album>, primary_key=True, nullable=False), Column('Title', NVARCHAR(length=160), table=<Album>, nullable=False), Column('ArtistId', INTEGER(), ForeignKey(u'Artist.ArtistId'), table=<Album>, nullable=False), schema=None), u'Playlist': Table('Playlist', MetaData(bind=None), Column('PlaylistId', INTEGER(), table=<Playlist>, primary_key=True, nullable=False), Column('Name', NVARCHAR(length=120), table=<Playlist>), schema=None), u'Customer': Table('Customer', MetaData(bind=None), Column('CustomerId', INTEGER(), table=<Customer>, primary_key=True, nullable=False), Column('FirstName', NVARCHAR(length=40), table=<Customer>, nullable=False), Column('LastName', NVARCHAR(length=20), table=<Customer>, nullable=False), Column('Company', NVARCHAR(length=80), table=<Customer>), Column('Address', NVARCHAR(length=70), table=<Customer>), Column('City', NVARCHAR(length=40), table=<Customer>), Column('State', NVARCHAR(length=40), table=<Customer>), Column('Country', NVARCHAR(length=40), table=<Customer>), Column('PostalCode', NVARCHAR(length=10), table=<Customer>), Column('Phone', NVARCHAR(length=24), table=<Customer>), Column('Fax', NVARCHAR(length=24), table=<Customer>), Column('Email', NVARCHAR(length=60), table=<Customer>, nullable=False), Column('SupportRepId', INTEGER(), ForeignKey(u'Employee.EmployeeId'), table=<Customer>), schema=None), u'Artist': Table('Artist', MetaData(bind=None), Column('ArtistId', INTEGER(), table=<Artist>, primary_key=True, nullable=False), Column('Name', NVARCHAR(length=120), table=<Artist>), schema=None), 'track': Table('track', MetaData(bind=None), Column('TrackId', INTEGER(), table=<track>, primary_key=True, nullable=False), Column('Name', NVARCHAR(length=200), table=<track>, nullable=False), Column('AlbumId', INTEGER(), table=<track>), Column('MediaTypeId', INTEGER(), table=<track>, nullable=False), Column('GenreId', INTEGER(), table=<track>), Column('Composer', NVARCHAR(length=220), table=<track>), Column('Milliseconds', INTEGER(), table=<track>, nullable=False), Column('Bytes', INTEGER(), table=<track>), Column('UnitPrice', NUMERIC(precision=10, scale=2), table=<track>, nullable=False), schema=None), 'artist': Table('artist', MetaData(bind=None), Column('ArtistId', INTEGER(), table=<artist>, primary_key=True, nullable=False), Column('Name', NVARCHAR(length=120), table=<artist>), schema=None), u'MediaType': Table('MediaType', MetaData(bind=None), Column('MediaTypeId', INTEGER(), table=<MediaType>, primary_key=True, nullable=False), Column('Name', NVARCHAR(length=120), table=<MediaType>), schema=None), u'Genre': Table('Genre', MetaData(bind=None), Column('GenreId', INTEGER(), table=<Genre>, primary_key=True, nullable=False), Column('Name', NVARCHAR(length=120), table=<Genre>), schema=None), u'Track': Table('Track', MetaData(bind=None), Column('TrackId', INTEGER(), table=<Track>, primary_key=True, nullable=False), Column('Name', NVARCHAR(length=200), table=<Track>, nullable=False), Column('AlbumId', INTEGER(), ForeignKey(u'Album.AlbumId'), table=<Track>), Column('MediaTypeId', INTEGER(), ForeignKey(u'MediaType.MediaTypeId'), table=<Track>, nullable=False), Column('GenreId', INTEGER(), ForeignKey(u'Genre.GenreId'), table=<Track>), Column('Composer', NVARCHAR(length=220), table=<Track>), Column('Milliseconds', INTEGER(), table=<Track>, nullable=False), Column('Bytes', INTEGER(), table=<Track>), Column('UnitPrice', NUMERIC(precision=10, scale=2), table=<Track>, nullable=False), schema=None), u'Invoice': Table('Invoice', MetaData(bind=None), Column('InvoiceId', INTEGER(), table=<Invoice>, primary_key=True, nullable=False), Column('CustomerId', INTEGER(), ForeignKey(u'Customer.CustomerId'), table=<Invoice>, nullable=False), Column('InvoiceDate', DATETIME(), table=<Invoice>, nullable=False), Column('BillingAddress', NVARCHAR(length=70), table=<Invoice>), Column('BillingCity', NVARCHAR(length=40), table=<Invoice>), Column('BillingState', NVARCHAR(length=40), table=<Invoice>), Column('BillingCountry', NVARCHAR(length=40), table=<Invoice>), Column('BillingPostalCode', NVARCHAR(length=10), table=<Invoice>), Column('Total', NUMERIC(precision=10, scale=2), table=<Invoice>, nullable=False), schema=None), u'InvoiceLine': Table('InvoiceLine', MetaData(bind=None), Column('InvoiceLineId', INTEGER(), table=<InvoiceLine>, primary_key=True, nullable=False), Column('InvoiceId', INTEGER(), ForeignKey(u'Invoice.InvoiceId'), table=<InvoiceLine>, nullable=False), Column('TrackId', INTEGER(), ForeignKey(u'Track.TrackId'), table=<InvoiceLine>, nullable=False), Column('UnitPrice', NUMERIC(precision=10, scale=2), table=<InvoiceLine>, nullable=False), Column('Quantity', INTEGER(), table=<InvoiceLine>, nullable=False), schema=None), u'Employee': Table('Employee', MetaData(bind=None), Column('EmployeeId', INTEGER(), table=<Employee>, primary_key=True, nullable=False), Column('LastName', NVARCHAR(length=20), table=<Employee>, nullable=False), Column('FirstName', NVARCHAR(length=20), table=<Employee>, nullable=False), Column('Title', NVARCHAR(length=30), table=<Employee>), Column('ReportsTo', INTEGER(), ForeignKey(u'Employee.EmployeeId'), table=<Employee>), Column('BirthDate', DATETIME(), table=<Employee>), Column('HireDate', DATETIME(), table=<Employee>), Column('Address', NVARCHAR(length=70), table=<Employee>), Column('City', NVARCHAR(length=40), table=<Employee>), Column('State', NVARCHAR(length=40), table=<Employee>), Column('Country', NVARCHAR(length=40), table=<Employee>), Column('PostalCode', NVARCHAR(length=10), table=<Employee>), Column('Phone', NVARCHAR(length=24), table=<Employee>), Column('Fax', NVARCHAR(length=24), table=<Employee>), Column('Email', NVARCHAR(length=60), table=<Employee>), schema=None), u'PlaylistTrack': Table('PlaylistTrack', MetaData(bind=None), Column('PlaylistId', INTEGER(), ForeignKey(u'Playlist.PlaylistId'), table=<PlaylistTrack>, primary_key=True, nullable=False), Column('TrackId', INTEGER(), ForeignKey(u'Track.TrackId'), table=<PlaylistTrack>, primary_key=True, nullable=False), schema=None)})"
      ]
     },
     "execution_count": 16,
     "metadata": {},
     "output_type": "execute_result"
    }
   ],
   "source": [
    "metadata.tables"
   ]
  },
  {
   "cell_type": "code",
   "execution_count": 44,
   "metadata": {
    "collapsed": false
   },
   "outputs": [
    {
     "data": {
      "text/plain": [
       "'artist JOIN album ON artist.\"ArtistId\" = album.\"ArtistId\"'"
      ]
     },
     "execution_count": 44,
     "metadata": {},
     "output_type": "execute_result"
    }
   ],
   "source": [
    "str(artist.join(album))"
   ]
  },
  {
   "cell_type": "code",
   "execution_count": null,
   "metadata": {
    "collapsed": true
   },
   "outputs": [],
   "source": []
  }
 ],
 "metadata": {
  "kernelspec": {
   "display_name": "Python 2",
   "language": "python",
   "name": "python2"
  },
  "language_info": {
   "codemirror_mode": {
    "name": "ipython",
    "version": 2
   },
   "file_extension": ".py",
   "mimetype": "text/x-python",
   "name": "python",
   "nbconvert_exporter": "python",
   "pygments_lexer": "ipython2",
   "version": "2.7.6"
  }
 },
 "nbformat": 4,
 "nbformat_minor": 0
}
