{
 "metadata": {
  "name": "",
  "signature": "sha256:bc890af1f35f3a8dbd7e2d649e6d48f712db74d4048ac38b59d530dfdf248415"
 },
 "nbformat": 3,
 "nbformat_minor": 0,
 "worksheets": [
  {
   "cells": [
    {
     "cell_type": "code",
     "collapsed": false,
     "input": [
      "from datetime import datetime\n",
      "\n",
      "from sqlalchemy import (MetaData, Table, Column, Integer, Numeric, String,\n",
      "                        DateTime, ForeignKey, Boolean, create_engine)\n",
      "metadata = MetaData()\n",
      "\n",
      "cookies = Table('cookies', metadata,\n",
      "    Column('cookie_id', Integer(), primary_key=True),\n",
      "    Column('cookie_name', String(50), index=True),\n",
      "    Column('cookie_recipe_url', String(255)),\n",
      "    Column('cookie_sku', String(55)),\n",
      "    Column('quantity', Integer()),\n",
      "    Column('unit_cost', Numeric(12, 2))\n",
      ")\n",
      "\n",
      "users = Table('users', metadata,\n",
      "    Column('user_id', Integer(), primary_key=True),\n",
      "    Column('customer_number', Integer(), autoincrement=True),\n",
      "    Column('username', String(15), nullable=False, unique=True),\n",
      "    Column('email_address', String(255), nullable=False),\n",
      "    Column('phone', String(20), nullable=False),\n",
      "    Column('password', String(25), nullable=False),\n",
      "    Column('created_on', DateTime(), default=datetime.now),\n",
      "    Column('updated_on', DateTime(), default=datetime.now, onupdate=datetime.now)\n",
      ")\n",
      "\n",
      "orders = Table('orders', metadata,\n",
      "    Column('order_id', Integer()),\n",
      "    Column('user_id', ForeignKey('users.user_id')),\n",
      "    Column('shipped', Boolean(), default=False)\n",
      ")\n",
      "\n",
      "line_items = Table('line_items', metadata,\n",
      "    Column('line_items_id', Integer(), primary_key=True),\n",
      "    Column('order_id', ForeignKey('orders.order_id')),\n",
      "    Column('cookie_id', ForeignKey('cookies.cookie_id')),\n",
      "    Column('quantity', Integer()),\n",
      "    Column('extended_cost', Numeric(12, 2))\n",
      ")\n",
      "\n",
      "engine = create_engine('sqlite:///:memory:')\n",
      "metadata.create_all(engine)"
     ],
     "language": "python",
     "metadata": {},
     "outputs": [],
     "prompt_number": 1
    },
    {
     "cell_type": "code",
     "collapsed": false,
     "input": [
      "connection = engine.connect()"
     ],
     "language": "python",
     "metadata": {},
     "outputs": [],
     "prompt_number": 2
    },
    {
     "cell_type": "code",
     "collapsed": false,
     "input": [
      "ins = cookies.insert().values(\n",
      "    cookie_name=\"chocolate chip\",\n",
      "    cookie_recipe_url=\"http://some.aweso.me/cookie/recipe.html\",\n",
      "    cookie_sku=\"CC01\",\n",
      "    quantity=\"12\",\n",
      "    unit_cost=\"0.50\"\n",
      ")\n",
      "str(ins)"
     ],
     "language": "python",
     "metadata": {},
     "outputs": [
      {
       "metadata": {},
       "output_type": "pyout",
       "prompt_number": 3,
       "text": [
        "'INSERT INTO cookies (cookie_name, cookie_recipe_url, cookie_sku, quantity, unit_cost) VALUES (:cookie_name, :cookie_recipe_url, :cookie_sku, :quantity, :unit_cost)'"
       ]
      }
     ],
     "prompt_number": 3
    },
    {
     "cell_type": "code",
     "collapsed": false,
     "input": [
      "ins.compile().params"
     ],
     "language": "python",
     "metadata": {},
     "outputs": [
      {
       "metadata": {},
       "output_type": "pyout",
       "prompt_number": 4,
       "text": [
        "{'cookie_name': 'chocolate chip',\n",
        " 'cookie_recipe_url': 'http://some.aweso.me/cookie/recipe.html',\n",
        " 'cookie_sku': 'CC01',\n",
        " 'quantity': '12',\n",
        " 'unit_cost': '0.50'}"
       ]
      }
     ],
     "prompt_number": 4
    },
    {
     "cell_type": "code",
     "collapsed": false,
     "input": [
      "result = connection.execute(ins)\n",
      "result.rowcount"
     ],
     "language": "python",
     "metadata": {},
     "outputs": [
      {
       "metadata": {},
       "output_type": "pyout",
       "prompt_number": 5,
       "text": [
        "1"
       ]
      }
     ],
     "prompt_number": 5
    },
    {
     "cell_type": "code",
     "collapsed": false,
     "input": [
      "result.inserted_primary_key"
     ],
     "language": "python",
     "metadata": {},
     "outputs": [
      {
       "metadata": {},
       "output_type": "pyout",
       "prompt_number": 6,
       "text": [
        "[1]"
       ]
      }
     ],
     "prompt_number": 6
    },
    {
     "cell_type": "code",
     "collapsed": false,
     "input": [
      "from sqlalchemy import insert\n",
      "ins = insert(cookies).values(\n",
      "    cookie_name=\"chocolate chip\",\n",
      "    cookie_recipe_url=\"http://some.aweso.me/cookie/recipe.html\",\n",
      "    cookie_sku=\"CC01\",\n",
      "    quantity=\"12\",\n",
      "    unit_cost=\"0.50\"\n",
      ")\n",
      "str(ins)"
     ],
     "language": "python",
     "metadata": {},
     "outputs": [
      {
       "metadata": {},
       "output_type": "pyout",
       "prompt_number": 7,
       "text": [
        "'INSERT INTO cookies (cookie_name, cookie_recipe_url, cookie_sku, quantity, unit_cost) VALUES (:cookie_name, :cookie_recipe_url, :cookie_sku, :quantity, :unit_cost)'"
       ]
      }
     ],
     "prompt_number": 7
    },
    {
     "cell_type": "code",
     "collapsed": false,
     "input": [
      "ins = cookies.insert()\n",
      "result = connection.execute(ins, cookie_name='dark chocolate chip',\n",
      "                            cookie_recipe_url='http://some.aweso.me/cookie/recipe_dark.html',\n",
      "                            cookie_sku='CC02',\n",
      "                            quantity='1',\n",
      "                            unit_cost='0.75')\n"
     ],
     "language": "python",
     "metadata": {},
     "outputs": [],
     "prompt_number": 8
    },
    {
     "cell_type": "code",
     "collapsed": false,
     "input": [
      "result.inserted_primary_key"
     ],
     "language": "python",
     "metadata": {},
     "outputs": [
      {
       "metadata": {},
       "output_type": "pyout",
       "prompt_number": 9,
       "text": [
        "[2]"
       ]
      }
     ],
     "prompt_number": 9
    },
    {
     "cell_type": "code",
     "collapsed": false,
     "input": [
      "inventory_list = [\n",
      "    {\n",
      "        'cookie_name': 'peanut butter',\n",
      "        'cookie_recipe_url': 'http://some.aweso.me/cookie/peanut.html',\n",
      "        'cookie_sku': 'PB01',\n",
      "        'quantity': '24',\n",
      "        'unit_cost': '0.25'\n",
      "    },\n",
      "    {\n",
      "        'cookie_name': 'oatmeal raisin',\n",
      "        'cookie_recipe_url': 'http://some.okay.me/cookie/raisin.html',\n",
      "        'cookie_sku': 'EWW01',\n",
      "        'quantity': '100',\n",
      "        'unit_cost': '1.00'\n",
      "    }\n",
      "]"
     ],
     "language": "python",
     "metadata": {},
     "outputs": [],
     "prompt_number": 10
    },
    {
     "cell_type": "code",
     "collapsed": false,
     "input": [
      "result = connection.execute(ins, inventory_list)\n",
      "result.rowcount"
     ],
     "language": "python",
     "metadata": {},
     "outputs": [
      {
       "metadata": {},
       "output_type": "pyout",
       "prompt_number": 11,
       "text": [
        "2"
       ]
      }
     ],
     "prompt_number": 11
    },
    {
     "cell_type": "code",
     "collapsed": false,
     "input": [
      "from sqlalchemy.sql import select"
     ],
     "language": "python",
     "metadata": {},
     "outputs": [],
     "prompt_number": 12
    },
    {
     "cell_type": "code",
     "collapsed": false,
     "input": [
      "s = select([cookies])"
     ],
     "language": "python",
     "metadata": {},
     "outputs": [],
     "prompt_number": 13
    },
    {
     "cell_type": "code",
     "collapsed": false,
     "input": [
      "str(s)"
     ],
     "language": "python",
     "metadata": {},
     "outputs": [
      {
       "metadata": {},
       "output_type": "pyout",
       "prompt_number": 14,
       "text": [
        "'SELECT cookies.cookie_id, cookies.cookie_name, cookies.cookie_recipe_url, cookies.cookie_sku, cookies.quantity, cookies.unit_cost \\nFROM cookies'"
       ]
      }
     ],
     "prompt_number": 14
    },
    {
     "cell_type": "code",
     "collapsed": false,
     "input": [
      "rp = connection.execute(s)"
     ],
     "language": "python",
     "metadata": {},
     "outputs": [
      {
       "output_type": "stream",
       "stream": "stderr",
       "text": [
        "/Users/jasonamyers/dotfiles/virtualenv/sa-book-dev/lib/python2.7/site-packages/sqlalchemy/sql/type_api.py:322: SAWarning: Dialect sqlite+pysqlite does *not* support Decimal objects natively, and SQLAlchemy must convert from floating point - rounding errors and other issues may occur. Please consider storing Decimal numbers as strings or integers on this platform for lossless storage.\n",
        "  d[coltype] = rp = d['impl'].result_processor(dialect, coltype)\n"
       ]
      }
     ],
     "prompt_number": 15
    },
    {
     "cell_type": "code",
     "collapsed": false,
     "input": [
      "results = rp.fetchall()"
     ],
     "language": "python",
     "metadata": {},
     "outputs": [],
     "prompt_number": 16
    },
    {
     "cell_type": "code",
     "collapsed": false,
     "input": [
      "first_row = results[0]"
     ],
     "language": "python",
     "metadata": {},
     "outputs": [],
     "prompt_number": 17
    },
    {
     "cell_type": "code",
     "collapsed": false,
     "input": [
      "first_row[1]"
     ],
     "language": "python",
     "metadata": {},
     "outputs": [
      {
       "metadata": {},
       "output_type": "pyout",
       "prompt_number": 18,
       "text": [
        "u'chocolate chip'"
       ]
      }
     ],
     "prompt_number": 18
    },
    {
     "cell_type": "code",
     "collapsed": false,
     "input": [
      "first_row.cookie_name"
     ],
     "language": "python",
     "metadata": {},
     "outputs": [
      {
       "metadata": {},
       "output_type": "pyout",
       "prompt_number": 19,
       "text": [
        "u'chocolate chip'"
       ]
      }
     ],
     "prompt_number": 19
    },
    {
     "cell_type": "code",
     "collapsed": false,
     "input": [
      "first_row[cookies.c.cookie_name]"
     ],
     "language": "python",
     "metadata": {},
     "outputs": [
      {
       "metadata": {},
       "output_type": "pyout",
       "prompt_number": 20,
       "text": [
        "u'chocolate chip'"
       ]
      }
     ],
     "prompt_number": 20
    },
    {
     "cell_type": "code",
     "collapsed": false,
     "input": [
      "s = cookies.select()"
     ],
     "language": "python",
     "metadata": {},
     "outputs": [],
     "prompt_number": 21
    },
    {
     "cell_type": "code",
     "collapsed": false,
     "input": [
      "rp = connection.execute(s)"
     ],
     "language": "python",
     "metadata": {},
     "outputs": [],
     "prompt_number": 22
    },
    {
     "cell_type": "code",
     "collapsed": false,
     "input": [
      "for record in rp:\n",
      "    print record.cookie_name"
     ],
     "language": "python",
     "metadata": {},
     "outputs": [
      {
       "output_type": "stream",
       "stream": "stdout",
       "text": [
        "chocolate chip\n",
        "dark chocolate chip\n",
        "peanut butter\n",
        "oatmeal raisin\n"
       ]
      }
     ],
     "prompt_number": 23
    },
    {
     "cell_type": "code",
     "collapsed": false,
     "input": [
      "s = select([cookies.c.cookie_name, cookies.c.quantity])\n",
      "rp = connection.execute(s)\n",
      "print(rp.keys())\n",
      "results = rp.fetchall()"
     ],
     "language": "python",
     "metadata": {},
     "outputs": [
      {
       "output_type": "stream",
       "stream": "stdout",
       "text": [
        "[u'cookie_name', u'quantity']\n"
       ]
      }
     ],
     "prompt_number": 24
    },
    {
     "cell_type": "code",
     "collapsed": false,
     "input": [
      "results"
     ],
     "language": "python",
     "metadata": {},
     "outputs": [
      {
       "metadata": {},
       "output_type": "pyout",
       "prompt_number": 25,
       "text": [
        "[(u'chocolate chip', 12),\n",
        " (u'dark chocolate chip', 1),\n",
        " (u'peanut butter', 24),\n",
        " (u'oatmeal raisin', 100)]"
       ]
      }
     ],
     "prompt_number": 25
    },
    {
     "cell_type": "code",
     "collapsed": false,
     "input": [
      "s = select([cookies.c.cookie_name, cookies.c.quantity])\n",
      "s = s.order_by(cookies.c.quantity)\n",
      "rp = connection.execute(s)\n",
      "for cookie in rp:\n",
      "    print('{} - {}'.format(cookie.quantity, cookie.cookie_name))"
     ],
     "language": "python",
     "metadata": {},
     "outputs": [
      {
       "output_type": "stream",
       "stream": "stdout",
       "text": [
        "1 - dark chocolate chip\n",
        "12 - chocolate chip\n",
        "24 - peanut butter\n",
        "100 - oatmeal raisin\n"
       ]
      }
     ],
     "prompt_number": 26
    },
    {
     "cell_type": "code",
     "collapsed": false,
     "input": [
      "from sqlalchemy import desc\n",
      "s = select([cookies.c.cookie_name, cookies.c.quantity])\n",
      "s = s.order_by(desc(cookies.c.quantity))\n",
      "rp = connection.execute(s)\n",
      "for cookie in rp:\n",
      "    print('{} - {}'.format(cookie.quantity, cookie.cookie_name))"
     ],
     "language": "python",
     "metadata": {},
     "outputs": [
      {
       "output_type": "stream",
       "stream": "stdout",
       "text": [
        "100 - oatmeal raisin\n",
        "24 - peanut butter\n",
        "12 - chocolate chip\n",
        "1 - dark chocolate chip\n"
       ]
      }
     ],
     "prompt_number": 27
    },
    {
     "cell_type": "code",
     "collapsed": false,
     "input": [
      "s = select([cookies.c.cookie_name, cookies.c.quantity])\n",
      "s = s.order_by(cookies.c.quantity)\n",
      "s = s.limit(2)\n",
      "rp = connection.execute(s)\n",
      "print [result.cookie_name for result in rp]"
     ],
     "language": "python",
     "metadata": {},
     "outputs": [
      {
       "output_type": "stream",
       "stream": "stdout",
       "text": [
        "[u'dark chocolate chip', u'chocolate chip']\n"
       ]
      }
     ],
     "prompt_number": 28
    },
    {
     "cell_type": "code",
     "collapsed": false,
     "input": [
      "from sqlalchemy.sql import func"
     ],
     "language": "python",
     "metadata": {},
     "outputs": [],
     "prompt_number": 29
    },
    {
     "cell_type": "code",
     "collapsed": false,
     "input": [
      "s = select([func.count(cookies.c.cookie_name)])\n",
      "rp = connection.execute(s)\n",
      "record = rp.first()\n",
      "print record.keys()\n",
      "print record.count_1"
     ],
     "language": "python",
     "metadata": {},
     "outputs": [
      {
       "output_type": "stream",
       "stream": "stdout",
       "text": [
        "[u'count_1']\n",
        "4\n"
       ]
      }
     ],
     "prompt_number": 30
    },
    {
     "cell_type": "code",
     "collapsed": false,
     "input": [
      "s = select([func.count(cookies.c.cookie_name).label('inventory_count')])\n",
      "rp = connection.execute(s)\n",
      "record = rp.first()\n",
      "print record.keys()\n",
      "print record.inventory_count"
     ],
     "language": "python",
     "metadata": {},
     "outputs": [
      {
       "output_type": "stream",
       "stream": "stdout",
       "text": [
        "[u'inventory_count']\n",
        "4\n"
       ]
      }
     ],
     "prompt_number": 31
    },
    {
     "cell_type": "code",
     "collapsed": false,
     "input": [
      "s = select([cookies]).where(cookies.c.cookie_name == 'chocolate chip')\n",
      "rp = connection.execute(s)\n",
      "record = rp.first()\n",
      "print record.items()"
     ],
     "language": "python",
     "metadata": {},
     "outputs": [
      {
       "output_type": "stream",
       "stream": "stdout",
       "text": [
        "[(u'cookie_id', 1), (u'cookie_name', u'chocolate chip'), (u'cookie_recipe_url', u'http://some.aweso.me/cookie/recipe.html'), (u'cookie_sku', u'CC01'), (u'quantity', 12), (u'unit_cost', Decimal('0.50'))]\n"
       ]
      }
     ],
     "prompt_number": 32
    },
    {
     "cell_type": "code",
     "collapsed": false,
     "input": [
      "s = select([cookies]).where(cookies.c.cookie_name.like('%chocolate%')).where(cookies.c.quantity == 12)\n",
      "rp = connection.execute(s)\n",
      "for record in rp.fetchall():\n",
      "    print record.cookie_name"
     ],
     "language": "python",
     "metadata": {},
     "outputs": [
      {
       "output_type": "stream",
       "stream": "stdout",
       "text": [
        "chocolate chip\n"
       ]
      }
     ],
     "prompt_number": 33
    },
    {
     "cell_type": "code",
     "collapsed": false,
     "input": [
      "str(s)"
     ],
     "language": "python",
     "metadata": {},
     "outputs": [
      {
       "metadata": {},
       "output_type": "pyout",
       "prompt_number": 34,
       "text": [
        "'SELECT cookies.cookie_id, cookies.cookie_name, cookies.cookie_recipe_url, cookies.cookie_sku, cookies.quantity, cookies.unit_cost \\nFROM cookies \\nWHERE cookies.cookie_name LIKE :cookie_name_1 AND cookies.quantity = :quantity_1'"
       ]
      }
     ],
     "prompt_number": 34
    },
    {
     "cell_type": "code",
     "collapsed": false,
     "input": [
      "s=cookies.select(limit=1)"
     ],
     "language": "python",
     "metadata": {},
     "outputs": [],
     "prompt_number": 35
    },
    {
     "cell_type": "code",
     "collapsed": false,
     "input": [
      "for row in connection.execute(s):\n",
      "    print row"
     ],
     "language": "python",
     "metadata": {},
     "outputs": [
      {
       "output_type": "stream",
       "stream": "stdout",
       "text": [
        "(1, u'chocolate chip', u'http://some.aweso.me/cookie/recipe.html', u'CC01', 12, Decimal('0.50'))\n"
       ]
      }
     ],
     "prompt_number": 36
    },
    {
     "cell_type": "code",
     "collapsed": false,
     "input": [
      "s= select([cookies.c.cookie_name, 'SKU-' + cookies.c.cookie_sku])\n",
      "for row in connection.execute(s):\n",
      "    print row"
     ],
     "language": "python",
     "metadata": {},
     "outputs": [
      {
       "output_type": "stream",
       "stream": "stdout",
       "text": [
        "(u'chocolate chip', u'SKU-CC01')\n",
        "(u'dark chocolate chip', u'SKU-CC02')\n",
        "(u'peanut butter', u'SKU-PB01')\n",
        "(u'oatmeal raisin', u'SKU-EWW01')\n"
       ]
      }
     ],
     "prompt_number": 37
    },
    {
     "cell_type": "code",
     "collapsed": false,
     "input": [
      "s= select([cookies.c.cookie_name, cookies.c.quantity * cookies.c.unit_cost])\n",
      "for row in connection.execute(s):\n",
      "    print('{} - {}'.format(row.cookie_name, row.anon_1))"
     ],
     "language": "python",
     "metadata": {},
     "outputs": [
      {
       "output_type": "stream",
       "stream": "stdout",
       "text": [
        "chocolate chip - 6.0000000000\n",
        "dark chocolate chip - 0.7500000000\n",
        "peanut butter - 6.0000000000\n",
        "oatmeal raisin - 100.0000000000\n"
       ]
      }
     ],
     "prompt_number": 38
    },
    {
     "cell_type": "code",
     "collapsed": false,
     "input": [
      "from sqlalchemy import cast\n",
      "s= select([cookies.c.cookie_name, cast((cookies.c.quantity * cookies.c.unit_cost), Numeric(12,2)).label('inv_cost')])\n",
      "for row in connection.execute(s):\n",
      "    print('{} - {}'.format(row.cookie_name, row.inv_cost))"
     ],
     "language": "python",
     "metadata": {},
     "outputs": [
      {
       "output_type": "stream",
       "stream": "stdout",
       "text": [
        "chocolate chip - 6.00\n",
        "dark chocolate chip - 0.75\n",
        "peanut butter - 6.00\n",
        "oatmeal raisin - 100.00\n"
       ]
      }
     ],
     "prompt_number": 39
    },
    {
     "cell_type": "code",
     "collapsed": false,
     "input": [
      "from sqlalchemy import cast\n",
      "s= select([cookies.c.cookie_name, (cookies.c.quantity * cookies.c.unit_cost).label('inv_cost')])\n",
      "for row in connection.execute(s):\n",
      "    print('{:<25} {:.2f}'.format(row.cookie_name, row.inv_cost))"
     ],
     "language": "python",
     "metadata": {},
     "outputs": [
      {
       "output_type": "stream",
       "stream": "stdout",
       "text": [
        "chocolate chip            6.00\n",
        "dark chocolate chip       0.75\n",
        "peanut butter             6.00\n",
        "oatmeal raisin            100.00\n"
       ]
      }
     ],
     "prompt_number": 40
    },
    {
     "cell_type": "code",
     "collapsed": false,
     "input": [
      "from sqlalchemy import and_, or_, not_\n",
      "s = select([cookies]).where(and_(\n",
      "    cookies.c.quantity > 23,\n",
      "    cookies.c.unit_cost < 0.40\n",
      "))\n",
      "for row in connection.execute(s):\n",
      "    print row.cookie_name"
     ],
     "language": "python",
     "metadata": {},
     "outputs": [
      {
       "output_type": "stream",
       "stream": "stdout",
       "text": [
        "peanut butter\n"
       ]
      }
     ],
     "prompt_number": 41
    },
    {
     "cell_type": "code",
     "collapsed": false,
     "input": [
      "from sqlalchemy import and_, or_, not_\n",
      "s = select([cookies]).where(or_(\n",
      "    cookies.c.quantity.between(10, 50),\n",
      "    cookies.c.cookie_name.contains('chip')\n",
      "))\n",
      "for row in connection.execute(s):\n",
      "    print row.cookie_name"
     ],
     "language": "python",
     "metadata": {},
     "outputs": [
      {
       "output_type": "stream",
       "stream": "stdout",
       "text": [
        "chocolate chip\n",
        "dark chocolate chip\n",
        "peanut butter\n"
       ]
      }
     ],
     "prompt_number": 42
    },
    {
     "cell_type": "code",
     "collapsed": false,
     "input": [
      "from sqlalchemy import update\n",
      "u = update(cookies).where(cookies.c.cookie_name==\"chocolate chip\").values(quantity=(cookies.c.quantity+120))\n",
      "result = connection.execute(u)\n",
      "print result.rowcount"
     ],
     "language": "python",
     "metadata": {},
     "outputs": [
      {
       "output_type": "stream",
       "stream": "stdout",
       "text": [
        "1\n"
       ]
      }
     ],
     "prompt_number": 43
    },
    {
     "cell_type": "code",
     "collapsed": false,
     "input": [
      "s = select([cookies]).where(cookies.c.cookie_name==\"chocolate chip\")\n",
      "result = connection.execute(s).first()\n",
      "for key in result.keys():\n",
      "    print('{:>20}: {}'.format(key, result[key]))\n"
     ],
     "language": "python",
     "metadata": {},
     "outputs": [
      {
       "output_type": "stream",
       "stream": "stdout",
       "text": [
        "           cookie_id: 1\n",
        "         cookie_name: chocolate chip\n",
        "   cookie_recipe_url: http://some.aweso.me/cookie/recipe.html\n",
        "          cookie_sku: CC01\n",
        "            quantity: 132\n",
        "           unit_cost: 0.50\n"
       ]
      }
     ],
     "prompt_number": 44
    },
    {
     "cell_type": "code",
     "collapsed": false,
     "input": [
      "from sqlalchemy import delete\n",
      "u = delete(cookies).where(cookies.c.cookie_name==\"dark chocolate chip\")\n",
      "result = connection.execute(u)\n",
      "print result.rowcount\n",
      "s = select([cookies]).where(cookies.c.cookie_name==\"dark chocolate chip\")\n",
      "result = connection.execute(s).fetchall()\n",
      "print len(result)\n"
     ],
     "language": "python",
     "metadata": {},
     "outputs": [
      {
       "output_type": "stream",
       "stream": "stdout",
       "text": [
        "1\n",
        "0\n"
       ]
      }
     ],
     "prompt_number": 45
    },
    {
     "cell_type": "code",
     "collapsed": false,
     "input": [
      "print result"
     ],
     "language": "python",
     "metadata": {},
     "outputs": [
      {
       "output_type": "stream",
       "stream": "stdout",
       "text": [
        "[]\n"
       ]
      }
     ],
     "prompt_number": 46
    },
    {
     "cell_type": "code",
     "collapsed": false,
     "input": [
      "customer_list = [\n",
      "    {\n",
      "        'username': \"cookiemon\",\n",
      "        'email_address': \"mon@cookie.com\",\n",
      "        'phone': \"111-111-1111\",\n",
      "        'password': \"password\"\n",
      "    },\n",
      "    {\n",
      "        'username': \"cakeeater\",\n",
      "        'email_address': \"cakeeater@cake.com\",\n",
      "        'phone': \"222-222-2222\",\n",
      "        'password': \"password\"\n",
      "    },\n",
      "    {\n",
      "        'username': \"pieguy\",\n",
      "        'email_address': \"guy@pie.com\",\n",
      "        'phone': \"333-333-3333\",\n",
      "        'password': \"password\"\n",
      "    }\n",
      "]"
     ],
     "language": "python",
     "metadata": {},
     "outputs": [],
     "prompt_number": 47
    },
    {
     "cell_type": "code",
     "collapsed": false,
     "input": [
      "ins = users.insert()\n",
      "result = connection.execute(ins, customer_list)"
     ],
     "language": "python",
     "metadata": {},
     "outputs": [],
     "prompt_number": 48
    },
    {
     "cell_type": "code",
     "collapsed": false,
     "input": [
      "ins = insert(orders).values(user_id=1, order_id='wlk001')\n",
      "result = connection.execute(ins)"
     ],
     "language": "python",
     "metadata": {},
     "outputs": [],
     "prompt_number": 49
    },
    {
     "cell_type": "code",
     "collapsed": false,
     "input": [
      "ins = insert(line_items)\n",
      "order_items = [\n",
      "    {\n",
      "        'order_id': 'wlk001',\n",
      "        'cookie_id': 1,\n",
      "        'quantity': 2,\n",
      "        'extended_cost': 1.00\n",
      "    },\n",
      "    {\n",
      "        'order_id': 'wlk001',\n",
      "        'cookie_id': 3,\n",
      "        'quantity': 12,\n",
      "        'extended_cost': 3.00\n",
      "    }\n",
      "]\n",
      "result = connection.execute(ins, order_items)"
     ],
     "language": "python",
     "metadata": {},
     "outputs": [],
     "prompt_number": 50
    },
    {
     "cell_type": "code",
     "collapsed": false,
     "input": [
      "ins = insert(orders).values(user_id=2, order_id='ol001')\n",
      "result = connection.execute(ins)"
     ],
     "language": "python",
     "metadata": {},
     "outputs": [],
     "prompt_number": 51
    },
    {
     "cell_type": "code",
     "collapsed": false,
     "input": [
      "ins = insert(line_items)\n",
      "order_items = [\n",
      "    {\n",
      "        'order_id': 'ol001',\n",
      "        'cookie_id': 1,\n",
      "        'quantity': 24,\n",
      "        'extended_cost': 12.00\n",
      "    },\n",
      "    {\n",
      "        'order_id': 'ol001',\n",
      "        'cookie_id': 4,\n",
      "        'quantity': 6,\n",
      "        'extended_cost': 6.00\n",
      "    }\n",
      "]\n",
      "result = connection.execute(ins, order_items)"
     ],
     "language": "python",
     "metadata": {},
     "outputs": [],
     "prompt_number": 52
    },
    {
     "cell_type": "code",
     "collapsed": false,
     "input": [
      "columns = [orders.c.order_id, users.c.username, users.c.phone, cookies.c.cookie_name, line_items.c.quantity, line_items.c.extended_cost]\n",
      "cookiemon_orders = select(columns)\n",
      "cookiemon_orders = cookiemon_orders.select_from(users.join(orders).join(line_items).join(cookies)).where(users.c.username == 'cookiemon')\n",
      "result = connection.execute(cookiemon_orders).fetchall()\n",
      "for row in result:\n",
      "    print row"
     ],
     "language": "python",
     "metadata": {},
     "outputs": [
      {
       "output_type": "stream",
       "stream": "stdout",
       "text": [
        "(u'wlk001', u'cookiemon', u'111-111-1111', u'chocolate chip', 2, Decimal('1.00'))\n",
        "(u'wlk001', u'cookiemon', u'111-111-1111', u'peanut butter', 12, Decimal('3.00'))\n"
       ]
      }
     ],
     "prompt_number": 53
    },
    {
     "cell_type": "code",
     "collapsed": false,
     "input": [
      "str(cookiemon_orders)"
     ],
     "language": "python",
     "metadata": {},
     "outputs": [
      {
       "metadata": {},
       "output_type": "pyout",
       "prompt_number": 54,
       "text": [
        "'SELECT orders.order_id, users.username, users.phone, cookies.cookie_name, line_items.quantity, line_items.extended_cost \\nFROM users JOIN orders ON users.user_id = orders.user_id JOIN line_items ON orders.order_id = line_items.order_id JOIN cookies ON cookies.cookie_id = line_items.cookie_id \\nWHERE users.username = :username_1'"
       ]
      }
     ],
     "prompt_number": 54
    },
    {
     "cell_type": "code",
     "collapsed": false,
     "input": [
      "columns = [users.c.username, orders.c.order_id]\n",
      "all_orders = select(columns)\n",
      "all_orders = all_orders.select_from(users.outerjoin(orders))\n",
      "result = connection.execute(all_orders).fetchall()\n",
      "for row in result:\n",
      "    print row"
     ],
     "language": "python",
     "metadata": {},
     "outputs": [
      {
       "output_type": "stream",
       "stream": "stdout",
       "text": [
        "(u'cakeeater', u'ol001')\n",
        "(u'cookiemon', u'wlk001')\n",
        "(u'pieguy', None)\n"
       ]
      }
     ],
     "prompt_number": 55
    },
    {
     "cell_type": "code",
     "collapsed": false,
     "input": [
      "columns = [users.c.username, func.count(orders.c.order_id)]\n",
      "all_orders = select(columns)\n",
      "all_orders = all_orders.select_from(users.outerjoin(orders)).group_by(users.c.username)\n",
      "print str(all_orders)\n",
      "result = connection.execute(all_orders).fetchall()\n",
      "for row in result:\n",
      "    print row"
     ],
     "language": "python",
     "metadata": {},
     "outputs": [
      {
       "output_type": "stream",
       "stream": "stdout",
       "text": [
        "SELECT users.username, count(orders.order_id) AS count_1 \n",
        "FROM users LEFT OUTER JOIN orders ON users.user_id = orders.user_id GROUP BY users.username\n",
        "(u'cakeeater', 1)\n",
        "(u'cookiemon', 1)\n",
        "(u'pieguy', 0)\n"
       ]
      }
     ],
     "prompt_number": 60
    }
   ],
   "metadata": {}
  }
 ]
}