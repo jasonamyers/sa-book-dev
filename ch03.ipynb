{
 "metadata": {
  "name": "",
  "signature": "sha256:40e8c0ddb807e76cd331ce4c18b67ab1228b389f3cd81f597e3b5edf8c9c9516"
 },
 "nbformat": 3,
 "nbformat_minor": 0,
 "worksheets": [
  {
   "cells": [
    {
     "cell_type": "code",
     "collapsed": false,
     "input": [
      "from sqlalchemy import MetaData\n",
      "metadata = MetaData()"
     ],
     "language": "python",
     "metadata": {},
     "outputs": [],
     "prompt_number": 1
    },
    {
     "cell_type": "code",
     "collapsed": false,
     "input": [
      "from datetime import datetime"
     ],
     "language": "python",
     "metadata": {},
     "outputs": [],
     "prompt_number": 2
    },
    {
     "cell_type": "code",
     "collapsed": false,
     "input": [
      "from sqlalchemy import Table, Column, Integer, Numeric, String, ForeignKey, DateTime"
     ],
     "language": "python",
     "metadata": {},
     "outputs": [],
     "prompt_number": 10
    },
    {
     "cell_type": "code",
     "collapsed": false,
     "input": [
      "from sqlalchemy import create_engine"
     ],
     "language": "python",
     "metadata": {},
     "outputs": [],
     "prompt_number": 4
    },
    {
     "cell_type": "code",
     "collapsed": false,
     "input": [
      "engine = create_engine('sqlite:///:memory:')"
     ],
     "language": "python",
     "metadata": {},
     "outputs": [],
     "prompt_number": 5
    },
    {
     "cell_type": "code",
     "collapsed": false,
     "input": [
      "cookies = Table('cookies', metadata,\n",
      "    Column('cookie_id', Integer(), primary_key=True),\n",
      "    Column('cookie_name', String(50), index=True),\n",
      "    Column('cookie_recipe_url', String(255)),\n",
      "    Column('cookie_sku', String(55)),\n",
      "    Column('quantity', Integer()),\n",
      "    Column('unit_cost', Numeric(12, 2))\n",
      ")"
     ],
     "language": "python",
     "metadata": {},
     "outputs": [],
     "prompt_number": 6
    },
    {
     "cell_type": "code",
     "collapsed": false,
     "input": [
      "users = Table('users', metadata,\n",
      "    Column('user_id', Integer(), primary_key=True),\n",
      "    Column('customer_number', Integer(), autoincrement=True), \n",
      "    Column('username', String(15), nullable=False, unique=True),\n",
      "    Column('email_address', String(255), nullable=False),\n",
      "    Column('phone', String(20), nullable=False),\n",
      "    Column('password', String(25), nullable=False),\n",
      "    Column('created_on', DateTime(), default=datetime.now),\n",
      "    Column('updated_on', DateTime(), default=datetime.now, onupdate=datetime.now)\n",
      ")"
     ],
     "language": "python",
     "metadata": {},
     "outputs": [],
     "prompt_number": 11
    },
    {
     "cell_type": "code",
     "collapsed": false,
     "input": [
      "orders = Table('orders', metadata,\n",
      "    Column('order_id', Integer()),\n",
      "    Column('user_id', ForeignKey('users.user_id')),\n",
      ")\n",
      "\n",
      "line_items = Table('line_items', metadata,\n",
      "    Column('line_items_id', Integer(), primary_key=True),\n",
      "    Column('order_id', ForeignKey('orders.order_id')),\n",
      "    Column('cookie_id', ForeignKey('cookies.cookie_id')),\n",
      "    Column('quantity', Integer()),\n",
      "    Column('extended_cost', Numeric(12, 2))\n",
      ")"
     ],
     "language": "python",
     "metadata": {},
     "outputs": [],
     "prompt_number": 12
    },
    {
     "cell_type": "code",
     "collapsed": false,
     "input": [
      "metadata.create_all(engine)"
     ],
     "language": "python",
     "metadata": {},
     "outputs": [],
     "prompt_number": 14
    },
    {
     "cell_type": "code",
     "collapsed": false,
     "input": [],
     "language": "python",
     "metadata": {},
     "outputs": []
    }
   ],
   "metadata": {}
  }
 ]
}